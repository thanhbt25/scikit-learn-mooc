{
 "cells": [
  {
   "cell_type": "code",
   "execution_count": 3,
   "id": "49f5a00e",
   "metadata": {},
   "outputs": [],
   "source": [
    "import pandas as pd\n",
    "\n",
    "adult_census = pd.read_csv(\"../datasets/adult-census.csv\")\n",
    "target_name = 'class'\n",
    "target = adult_census [target_name]\n",
    "data = adult_census.drop(columns=[target_name, 'education-num'])"
   ]
  },
  {
   "cell_type": "code",
   "execution_count": 4,
   "id": "c8719f35",
   "metadata": {},
   "outputs": [],
   "source": [
    "from sklearn.compose import make_column_selector as selector\n",
    "\n",
    "categorical_columns_selector = selector(dtype_include=object)\n",
    "categorical_columns = categorical_columns_selector(data)\n",
    "data_categorical = data[categorical_columns]"
   ]
  },
  {
   "cell_type": "code",
   "execution_count": 16,
   "id": "7902ea66",
   "metadata": {},
   "outputs": [],
   "source": [
    "from sklearn.pipeline import make_pipeline \n",
    "from sklearn.preprocessing import OrdinalEncoder\n",
    "from sklearn.linear_model import LogisticRegression \n",
    "\n",
    "# write code here\n",
    "model = make_pipeline(OrdinalEncoder(handle_unknown='use_encoded_value', unknown_value=-1), \n",
    "                      LogisticRegression(max_iter=500))"
   ]
  },
  {
   "cell_type": "code",
   "execution_count": 6,
   "id": "1e7e44cd",
   "metadata": {},
   "outputs": [
    {
     "name": "stderr",
     "output_type": "stream",
     "text": [
      "d:\\Python\\Lib\\site-packages\\sklearn\\linear_model\\_logistic.py:469: ConvergenceWarning: lbfgs failed to converge (status=1):\n",
      "STOP: TOTAL NO. of ITERATIONS REACHED LIMIT.\n",
      "\n",
      "Increase the number of iterations (max_iter) or scale the data as shown in:\n",
      "    https://scikit-learn.org/stable/modules/preprocessing.html\n",
      "Please also refer to the documentation for alternative solver options:\n",
      "    https://scikit-learn.org/stable/modules/linear_model.html#logistic-regression\n",
      "  n_iter_i = _check_optimize_result(\n",
      "d:\\Python\\Lib\\site-packages\\sklearn\\linear_model\\_logistic.py:469: ConvergenceWarning: lbfgs failed to converge (status=1):\n",
      "STOP: TOTAL NO. of ITERATIONS REACHED LIMIT.\n",
      "\n",
      "Increase the number of iterations (max_iter) or scale the data as shown in:\n",
      "    https://scikit-learn.org/stable/modules/preprocessing.html\n",
      "Please also refer to the documentation for alternative solver options:\n",
      "    https://scikit-learn.org/stable/modules/linear_model.html#logistic-regression\n",
      "  n_iter_i = _check_optimize_result(\n",
      "d:\\Python\\Lib\\site-packages\\sklearn\\linear_model\\_logistic.py:469: ConvergenceWarning: lbfgs failed to converge (status=1):\n",
      "STOP: TOTAL NO. of ITERATIONS REACHED LIMIT.\n",
      "\n",
      "Increase the number of iterations (max_iter) or scale the data as shown in:\n",
      "    https://scikit-learn.org/stable/modules/preprocessing.html\n",
      "Please also refer to the documentation for alternative solver options:\n",
      "    https://scikit-learn.org/stable/modules/linear_model.html#logistic-regression\n",
      "  n_iter_i = _check_optimize_result(\n"
     ]
    }
   ],
   "source": [
    "from sklearn.model_selection import cross_validate\n",
    "\n",
    "cv_result_ordinal = cross_validate(model, data_categorical, target, cv=5, error_score='raise')"
   ]
  },
  {
   "cell_type": "code",
   "execution_count": 7,
   "id": "abdcd8fd",
   "metadata": {},
   "outputs": [
    {
     "data": {
      "text/plain": [
       "{'fit_time': array([0.28201509, 0.22344589, 0.28041267, 0.27554893, 0.26119781]),\n",
       " 'score_time': array([0.02478814, 0.02281308, 0.03187132, 0.02714515, 0.02247214]),\n",
       " 'test_score': array([0.75483673, 0.75555328, 0.75573301, 0.75317363, 0.75788288])}"
      ]
     },
     "execution_count": 7,
     "metadata": {},
     "output_type": "execute_result"
    }
   ],
   "source": [
    "cv_result_ordinal"
   ]
  },
  {
   "cell_type": "code",
   "execution_count": 12,
   "id": "c6a317ac",
   "metadata": {},
   "outputs": [
    {
     "data": {
      "text/plain": [
       "{'fit_time': array([0.24677896, 0.19084024, 0.20580101, 0.22940755, 0.25845337]),\n",
       " 'score_time': array([0.02135944, 0.02501464, 0.03049374, 0.02793217, 0.03659511]),\n",
       " 'test_score': array([0.83232675, 0.83570478, 0.82831695, 0.83292383, 0.83497133])}"
      ]
     },
     "execution_count": 12,
     "metadata": {},
     "output_type": "execute_result"
    }
   ],
   "source": [
    "from sklearn.preprocessing import OneHotEncoder\n",
    "\n",
    "# Write your code here\n",
    "model = make_pipeline(OneHotEncoder(handle_unknown='ignore'), \n",
    "                    LogisticRegression())\n",
    "cv_result_onehot = cross_validate(model, data_categorical, target, cv=5, error_score='raise')\n",
    "cv_result_onehot"
   ]
  },
  {
   "cell_type": "code",
   "execution_count": 17,
   "id": "6501973b",
   "metadata": {},
   "outputs": [
    {
     "name": "stdout",
     "output_type": "stream",
     "text": [
      "The mean cross-validation accuracy os the dummy classifier is: 0.761 +/- 0.000\n"
     ]
    }
   ],
   "source": [
    "from sklearn.dummy import DummyClassifier \n",
    "\n",
    "cv_results_dummy = cross_validate(DummyClassifier(strategy='most_frequent'), data_categorical, target, cv=5, error_score='raise')\n",
    "scores = cv_results_dummy['test_score']\n",
    "print(\n",
    "    \"The mean cross-validation accuracy os the dummy classifier is: \"\n",
    "    f\"{scores.mean():.3f} +/- {scores.std():.3f}\"\n",
    ")"
   ]
  },
  {
   "cell_type": "code",
   "execution_count": 18,
   "id": "247ba84c",
   "metadata": {},
   "outputs": [
    {
     "name": "stdout",
     "output_type": "stream",
     "text": [
      "OrdinalEncoder mean accuracy: 0.755 +/- 0.002\n",
      "OneHotEncoder mean accuracy: 0.833 +/- 0.003\n"
     ]
    }
   ],
   "source": [
    "print(f\"OrdinalEncoder mean accuracy: {cv_result_ordinal['test_score'].mean():.3f} +/- {cv_result_ordinal['test_score'].std():.3f}\")\n",
    "print(f'OneHotEncoder mean accuracy: {cv_result_onehot['test_score'].mean():.3f} +/- {cv_result_onehot['test_score'].std():.3f}')"
   ]
  }
 ],
 "metadata": {
  "kernelspec": {
   "display_name": "Python 3",
   "language": "python",
   "name": "python3"
  },
  "language_info": {
   "codemirror_mode": {
    "name": "ipython",
    "version": 3
   },
   "file_extension": ".py",
   "mimetype": "text/x-python",
   "name": "python",
   "nbconvert_exporter": "python",
   "pygments_lexer": "ipython3",
   "version": "3.12.5"
  }
 },
 "nbformat": 4,
 "nbformat_minor": 5
}
