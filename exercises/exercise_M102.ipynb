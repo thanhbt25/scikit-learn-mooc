{
 "cells": [
  {
   "cell_type": "markdown",
   "id": "2a105cf1",
   "metadata": {},
   "source": [
    "First, I import the library pandas to my notebook and import data  too. \n",
    "Data is X label and target is Y label."
   ]
  },
  {
   "cell_type": "code",
   "execution_count": 2,
   "id": "f8ab907c",
   "metadata": {},
   "outputs": [],
   "source": [
    "import pandas as pd\n",
    "\n",
    "adult_census = pd.read_csv('../datasets/adult-census-numeric.csv')\n",
    "data = adult_census.drop(columns='class')\n",
    "target = adult_census['class']"
   ]
  },
  {
   "cell_type": "markdown",
   "id": "09b6b52e",
   "metadata": {},
   "source": [
    "What is the default value of the `n_neighbors`parameter? --> 5"
   ]
  },
  {
   "cell_type": "markdown",
   "id": "57bdd1ab",
   "metadata": {},
   "source": [
    "I use K-Neighbors-Classifier in order to predict. This algorithm is based on distance and deciding according to its neighbors.   \n",
    "In this code, I use neighbors = 50"
   ]
  },
  {
   "cell_type": "code",
   "execution_count": 3,
   "id": "27c9fbb3",
   "metadata": {},
   "outputs": [],
   "source": [
    "from sklearn.neighbors import KNeighborsClassifier \n",
    "model = KNeighborsClassifier(n_neighbors=50)\n",
    "_ = model.fit(data, target)"
   ]
  },
  {
   "cell_type": "markdown",
   "id": "4313ac78",
   "metadata": {},
   "source": [
    "After training the model, I predict again. This algorithm is not learning, it just learn when predicting, so it's not OK so much."
   ]
  },
  {
   "cell_type": "code",
   "execution_count": 9,
   "id": "fdfc43a9",
   "metadata": {},
   "outputs": [],
   "source": [
    "target_predicted = model.predict(data)"
   ]
  },
  {
   "cell_type": "code",
   "execution_count": null,
   "id": "ff1ddad9",
   "metadata": {},
   "outputs": [
    {
     "data": {
      "text/plain": [
       "array([' <=50K', ' <=50K', ' <=50K', ' <=50K', ' <=50K'], dtype=object)"
      ]
     },
     "execution_count": 10,
     "metadata": {},
     "output_type": "execute_result"
    }
   ],
   "source": [
    "target_predicted[:10]"
   ]
  },
  {
   "cell_type": "code",
   "execution_count": null,
   "id": "639c578a",
   "metadata": {},
   "outputs": [
    {
     "data": {
      "text/plain": [
       "0     <=50K\n",
       "1     <=50K\n",
       "2     <=50K\n",
       "3     <=50K\n",
       "4     <=50K\n",
       "Name: class, dtype: object"
      ]
     },
     "execution_count": 11,
     "metadata": {},
     "output_type": "execute_result"
    }
   ],
   "source": [
    "target[:10]"
   ]
  },
  {
   "cell_type": "code",
   "execution_count": 15,
   "id": "921ad53f",
   "metadata": {},
   "outputs": [
    {
     "name": "stdout",
     "output_type": "stream",
     "text": [
      "Number of correct predictions: 82.90379545978041%\n"
     ]
    }
   ],
   "source": [
    "print(\n",
    "    f'Number of correct predictions: {(target_predicted == target).mean() * 100}%'\n",
    ")"
   ]
  },
  {
   "cell_type": "code",
   "execution_count": 17,
   "id": "41188c35",
   "metadata": {},
   "outputs": [],
   "source": [
    "adult_census_test = pd.read_csv('../datasets/adult-census-numeric-test.csv')\n",
    "data_test = adult_census_test.drop(columns='class')\n",
    "target_test = adult_census_test['class']"
   ]
  },
  {
   "cell_type": "code",
   "execution_count": 18,
   "id": "d4f95420",
   "metadata": {},
   "outputs": [
    {
     "data": {
      "text/plain": [
       "array([' <=50K', ' <=50K', ' <=50K', ' <=50K', ' <=50K', ' <=50K',\n",
       "       ' <=50K', ' >50K', ' <=50K', ' <=50K'], dtype=object)"
      ]
     },
     "execution_count": 18,
     "metadata": {},
     "output_type": "execute_result"
    }
   ],
   "source": [
    "target_data_predicted_test = model.predict(data_test)\n",
    "target_data_predicted_test[:10]"
   ]
  },
  {
   "cell_type": "code",
   "execution_count": 19,
   "id": "dca2d8d4",
   "metadata": {},
   "outputs": [
    {
     "data": {
      "text/plain": [
       "0     <=50K\n",
       "1      >50K\n",
       "2      >50K\n",
       "3     <=50K\n",
       "4     <=50K\n",
       "5     <=50K\n",
       "6     <=50K\n",
       "7      >50K\n",
       "8     <=50K\n",
       "9     <=50K\n",
       "Name: class, dtype: object"
      ]
     },
     "execution_count": 19,
     "metadata": {},
     "output_type": "execute_result"
    }
   ],
   "source": [
    "target_test[:10]"
   ]
  },
  {
   "cell_type": "code",
   "execution_count": 20,
   "id": "986d86ae",
   "metadata": {},
   "outputs": [
    {
     "name": "stdout",
     "output_type": "stream",
     "text": [
      "Accuracy of KNeighborsClassifier on test data: 81.88146176681339%\n"
     ]
    }
   ],
   "source": [
    "accuracy = model.score(data_test, target_test)\n",
    "model_name = model.__class__.__name__\n",
    "print(f'Accuracy of {model_name} on test data: {accuracy * 100}%')"
   ]
  }
 ],
 "metadata": {
  "kernelspec": {
   "display_name": "Python 3",
   "language": "python",
   "name": "python3"
  },
  "language_info": {
   "codemirror_mode": {
    "name": "ipython",
    "version": 3
   },
   "file_extension": ".py",
   "mimetype": "text/x-python",
   "name": "python",
   "nbconvert_exporter": "python",
   "pygments_lexer": "ipython3",
   "version": "3.12.5"
  }
 },
 "nbformat": 4,
 "nbformat_minor": 5
}
