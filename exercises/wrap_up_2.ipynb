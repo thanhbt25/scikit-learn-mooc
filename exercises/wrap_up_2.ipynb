{
 "cells": [
  {
   "cell_type": "code",
   "execution_count": 2,
   "id": "8f6debfb",
   "metadata": {},
   "outputs": [],
   "source": [
    "import pandas as pd\n",
    "\n",
    "blood_transfusion =pd.read_csv('../datasets/blood_transfusion.csv')\n",
    "target_name = 'Class'\n",
    "data = blood_transfusion.drop(columns=[target_name])\n",
    "target = blood_transfusion[target_name]"
   ]
  },
  {
   "cell_type": "code",
   "execution_count": 3,
   "id": "39231e87",
   "metadata": {},
   "outputs": [
    {
     "data": {
      "text/plain": [
       "Class\n",
       "not donated    570\n",
       "donated        178\n",
       "Name: count, dtype: int64"
      ]
     },
     "execution_count": 3,
     "metadata": {},
     "output_type": "execute_result"
    }
   ],
   "source": [
    "target.value_counts()"
   ]
  },
  {
   "cell_type": "code",
   "execution_count": 4,
   "id": "ebed97bc",
   "metadata": {},
   "outputs": [
    {
     "data": {
      "text/plain": [
       "array(['donated', 'not donated'], dtype=object)"
      ]
     },
     "execution_count": 4,
     "metadata": {},
     "output_type": "execute_result"
    }
   ],
   "source": [
    "target.unique()"
   ]
  },
  {
   "cell_type": "markdown",
   "id": "83869d38",
   "metadata": {},
   "source": [
    "Q1.   \n",
    "- a) The problem to be solved is a binary classification problem (exactly 2 possible classes)\n",
    "- d) The proportions of the class counts are imbalanced: some classes have more than twice as many rows than others"
   ]
  },
  {
   "cell_type": "code",
   "execution_count": 9,
   "id": "13f65f5d",
   "metadata": {},
   "outputs": [
    {
     "name": "stdout",
     "output_type": "stream",
     "text": [
      "The mean accuracy of the dummy classifier is 0.762 +/- 0.004\n"
     ]
    }
   ],
   "source": [
    "from sklearn.dummy import DummyClassifier\n",
    "from sklearn.model_selection import cross_val_score\n",
    "\n",
    "dummy = DummyClassifier(strategy='most_frequent')\n",
    "scores = cross_val_score(dummy, data, target, cv=10)\n",
    "print(\n",
    "    f\"The mean accuracy of the dummy classifier is {scores.mean():.3f} \"\n",
    "    f\"+/- {scores.std():.3f}\"\n",
    ")\n"
   ]
  },
  {
   "cell_type": "code",
   "execution_count": 7,
   "id": "4821305b",
   "metadata": {},
   "outputs": [
    {
     "name": "stdout",
     "output_type": "stream",
     "text": [
      "The mean accuracy is 0.762  +/- 0.004\n"
     ]
    }
   ],
   "source": [
    "from sklearn.model_selection import cross_validate\n",
    "\n",
    "scores = cross_validate(dummy, data, target, cv=10)\n",
    "print(\n",
    "    f\"The mean accuracy is {scores['test_score'].mean():.3f} \"\n",
    "    f\" +/- {scores['test_score'].std():.3f}\"\n",
    ")\n"
   ]
  },
  {
   "cell_type": "markdown",
   "id": "bd3e5dae",
   "metadata": {},
   "source": [
    "Q2. c) ~75%"
   ]
  },
  {
   "cell_type": "code",
   "execution_count": 11,
   "id": "bc3003f1",
   "metadata": {},
   "outputs": [
    {
     "name": "stdout",
     "output_type": "stream",
     "text": [
      "The mean balanced accuracy is 0.500 +/- 0.000\n"
     ]
    }
   ],
   "source": [
    "balanced_accuracy = cross_validate(\n",
    "    dummy,\n",
    "    data,\n",
    "    target, \n",
    "    cv=10,\n",
    "    scoring='balanced_accuracy',\n",
    ")\n",
    "\n",
    "print(\n",
    "    f\"The mean balanced accuracy is {balanced_accuracy['test_score'].mean():.3f}\"\n",
    "    f\" +/- {balanced_accuracy['test_score'].std():.3f}\"\n",
    ")"
   ]
  },
  {
   "cell_type": "markdown",
   "id": "21c5a43b",
   "metadata": {},
   "source": [
    "Q3. b) ~0.5"
   ]
  },
  {
   "cell_type": "markdown",
   "id": "10d77249",
   "metadata": {},
   "source": [
    "Q4. a)faster to compute the list of neighbors on scaled data"
   ]
  },
  {
   "cell_type": "code",
   "execution_count": null,
   "id": "ca34ec0b",
   "metadata": {},
   "outputs": [],
   "source": [
    "from sklearn.pipeline import make_pipeline\n",
    "from sklearn.preprocessing import StandardScaler\n",
    "from sklearn.neighbors import KNeighborsClassifier\n",
    "\n",
    "model = make_pipeline(\n",
    "    StandardScaler(),\n",
    "    KNeighborsClassifier(n_neighbors=1)\n",
    ")"
   ]
  },
  {
   "cell_type": "code",
   "execution_count": 14,
   "id": "3bbc9042",
   "metadata": {},
   "outputs": [
    {
     "data": {
      "text/plain": [
       "{'memory': None,\n",
       " 'steps': [('standardscaler', StandardScaler()),\n",
       "  ('kneighborsclassifier', KNeighborsClassifier())],\n",
       " 'verbose': False,\n",
       " 'standardscaler': StandardScaler(),\n",
       " 'kneighborsclassifier': KNeighborsClassifier(),\n",
       " 'standardscaler__copy': True,\n",
       " 'standardscaler__with_mean': True,\n",
       " 'standardscaler__with_std': True,\n",
       " 'kneighborsclassifier__algorithm': 'auto',\n",
       " 'kneighborsclassifier__leaf_size': 30,\n",
       " 'kneighborsclassifier__metric': 'minkowski',\n",
       " 'kneighborsclassifier__metric_params': None,\n",
       " 'kneighborsclassifier__n_jobs': None,\n",
       " 'kneighborsclassifier__n_neighbors': 5,\n",
       " 'kneighborsclassifier__p': 2,\n",
       " 'kneighborsclassifier__weights': 'uniform'}"
      ]
     },
     "execution_count": 14,
     "metadata": {},
     "output_type": "execute_result"
    }
   ],
   "source": [
    "model.get_params()"
   ]
  },
  {
   "cell_type": "markdown",
   "id": "3f73baa9",
   "metadata": {},
   "source": [
    "Q5. c) 5"
   ]
  },
  {
   "cell_type": "code",
   "execution_count": 18,
   "id": "32a7e3fe",
   "metadata": {},
   "outputs": [
    {
     "name": "stdout",
     "output_type": "stream",
     "text": [
      "The mean balanced accuracy is 0.553  +/- 0.082\n",
      "The mean training score is 0.694  +/- 0.010\n"
     ]
    }
   ],
   "source": [
    "scores = cross_validate(\n",
    "    model,\n",
    "    data,\n",
    "    target,\n",
    "    cv=10,\n",
    "    scoring='balanced_accuracy',\n",
    "    return_train_score=True,\n",
    ")\n",
    "\n",
    "print(\n",
    "    f\"The mean balanced accuracy is {scores['test_score'].mean():.3f} \"\n",
    "    f\" +/- {scores['test_score'].std():.3f}\\n\"\n",
    "    f\"The mean training score is {scores['train_score'].mean():.3f} \"\n",
    "    f\" +/- {scores['train_score'].std():.3f}\"\n",
    ")"
   ]
  },
  {
   "cell_type": "markdown",
   "id": "381796cb",
   "metadata": {},
   "source": [
    "Q6. a)"
   ]
  },
  {
   "cell_type": "code",
   "execution_count": 19,
   "id": "81be5470",
   "metadata": {},
   "outputs": [],
   "source": [
    "import numpy as np\n",
    "\n",
    "param_range = np.array([1, 2, 5, 10, 20, 50, 100, 200, 500])"
   ]
  },
  {
   "cell_type": "code",
   "execution_count": 26,
   "id": "2b795cb7",
   "metadata": {},
   "outputs": [
    {
     "data": {
      "image/png": "[encoded data removed]",
      "text/plain": [
       "<Figure size 640x480 with 1 Axes>"
      ]
     },
     "metadata": {},
     "output_type": "display_data"
    }
   ],
   "source": [
    "from sklearn.model_selection import ValidationCurveDisplay \n",
    "\n",
    "display = ValidationCurveDisplay.from_estimator(\n",
    "    model,\n",
    "    data, \n",
    "    target, \n",
    "    param_name='kneighborsclassifier__n_neighbors',\n",
    "    param_range=param_range,\n",
    "    scoring='balanced_accuracy',\n",
    "    std_display_style='fill_between',\n",
    "    n_jobs=-1\n",
    ")\n",
    "\n",
    "__ = display.ax_.set(\n",
    "    title='Validation curve with KNN',\n",
    "    xlabel='Number of neighbors',\n",
    "    ylabel='Balanced accuracy',\n",
    ")\n"
   ]
  },
  {
   "cell_type": "markdown",
   "id": "a2761742",
   "metadata": {},
   "source": [
    "a) The model underfits for a range of n_neighbors values between 1 to 10\n"
   ]
  },
  {
   "cell_type": "markdown",
   "id": "5b95ca26",
   "metadata": {},
   "source": [
    "c) The model overfits for a range of n_neighbors values between 100 to 500\n",
    "\n"
   ]
  },
  {
   "cell_type": "markdown",
   "id": "f1f020f4",
   "metadata": {},
   "source": [
    "b) The model best generalizes for a range of n_neighbors values between 10 to 100"
   ]
  }
 ],
 "metadata": {
  "kernelspec": {
   "display_name": "Python 3",
   "language": "python",
   "name": "python3"
  },
  "language_info": {
   "codemirror_mode": {
    "name": "ipython",
    "version": 3
   },
   "file_extension": ".py",
   "mimetype": "text/x-python",
   "name": "python",
   "nbconvert_exporter": "python",
   "pygments_lexer": "ipython3",
   "version": "3.12.5"
  }
 },
 "nbformat": 4,
 "nbformat_minor": 5
}
