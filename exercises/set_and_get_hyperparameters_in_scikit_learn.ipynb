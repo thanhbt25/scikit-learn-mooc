{
 "cells": [
  {
   "cell_type": "markdown",
   "id": "aea7f058",
   "metadata": {},
   "source": [
    "### Thiết lập và truy xuất siêu tham số (hyperparameters) trong scikit-learn\n",
    "#### Siêu tham số là gì? \n",
    "- Siêu tham số (hyperparameters) là những tham số điều khiển quá trình học của mô hình dự đoán.\n",
    "- Chúng khác nhau giữa các loại mô hình, và phụ thuộc vào từng bộ dữ liệu, do đó luôn cần được tối ưu hóa.  \n",
    "\n",
    "🔸 Lưu ý: Đừng nhầm lẫn siêu tham số với tham số đã được học (fitted parameters) sau khi huấn luyện, ví dụ model.coef_. Những tham số đã học này thường có hậu tố _ trong tên.\n",
    "\n"
   ]
  },
  {
   "cell_type": "code",
   "execution_count": 2,
   "id": "87b60baf",
   "metadata": {},
   "outputs": [],
   "source": [
    "import pandas as pd\n",
    "\n",
    "adult_census= pd.read_csv('../datasets/adult-census.csv')\n",
    "\n",
    "target_name = 'class'\n",
    "numerical_columns = ['age', 'capital-gain', 'capital-loss', 'hours-per-week']\n",
    "\n",
    "target_name = 'class'\n",
    "data = adult_census[numerical_columns]\n",
    "target = adult_census[target_name]"
   ]
  },
  {
   "cell_type": "code",
   "execution_count": 3,
   "id": "91dece8c",
   "metadata": {},
   "outputs": [
    {
     "data": {
      "text/html": [
       "<div>\n",
       "<style scoped>\n",
       "    .dataframe tbody tr th:only-of-type {\n",
       "        vertical-align: middle;\n",
       "    }\n",
       "\n",
       "    .dataframe tbody tr th {\n",
       "        vertical-align: top;\n",
       "    }\n",
       "\n",
       "    .dataframe thead th {\n",
       "        text-align: right;\n",
       "    }\n",
       "</style>\n",
       "<table border=\"1\" class=\"dataframe\">\n",
       "  <thead>\n",
       "    <tr style=\"text-align: right;\">\n",
       "      <th></th>\n",
       "      <th>age</th>\n",
       "      <th>capital-gain</th>\n",
       "      <th>capital-loss</th>\n",
       "      <th>hours-per-week</th>\n",
       "    </tr>\n",
       "  </thead>\n",
       "  <tbody>\n",
       "    <tr>\n",
       "      <th>0</th>\n",
       "      <td>25</td>\n",
       "      <td>0</td>\n",
       "      <td>0</td>\n",
       "      <td>40</td>\n",
       "    </tr>\n",
       "    <tr>\n",
       "      <th>1</th>\n",
       "      <td>38</td>\n",
       "      <td>0</td>\n",
       "      <td>0</td>\n",
       "      <td>50</td>\n",
       "    </tr>\n",
       "    <tr>\n",
       "      <th>2</th>\n",
       "      <td>28</td>\n",
       "      <td>0</td>\n",
       "      <td>0</td>\n",
       "      <td>40</td>\n",
       "    </tr>\n",
       "    <tr>\n",
       "      <th>3</th>\n",
       "      <td>44</td>\n",
       "      <td>7688</td>\n",
       "      <td>0</td>\n",
       "      <td>40</td>\n",
       "    </tr>\n",
       "    <tr>\n",
       "      <th>4</th>\n",
       "      <td>18</td>\n",
       "      <td>0</td>\n",
       "      <td>0</td>\n",
       "      <td>30</td>\n",
       "    </tr>\n",
       "    <tr>\n",
       "      <th>...</th>\n",
       "      <td>...</td>\n",
       "      <td>...</td>\n",
       "      <td>...</td>\n",
       "      <td>...</td>\n",
       "    </tr>\n",
       "    <tr>\n",
       "      <th>48837</th>\n",
       "      <td>27</td>\n",
       "      <td>0</td>\n",
       "      <td>0</td>\n",
       "      <td>38</td>\n",
       "    </tr>\n",
       "    <tr>\n",
       "      <th>48838</th>\n",
       "      <td>40</td>\n",
       "      <td>0</td>\n",
       "      <td>0</td>\n",
       "      <td>40</td>\n",
       "    </tr>\n",
       "    <tr>\n",
       "      <th>48839</th>\n",
       "      <td>58</td>\n",
       "      <td>0</td>\n",
       "      <td>0</td>\n",
       "      <td>40</td>\n",
       "    </tr>\n",
       "    <tr>\n",
       "      <th>48840</th>\n",
       "      <td>22</td>\n",
       "      <td>0</td>\n",
       "      <td>0</td>\n",
       "      <td>20</td>\n",
       "    </tr>\n",
       "    <tr>\n",
       "      <th>48841</th>\n",
       "      <td>52</td>\n",
       "      <td>15024</td>\n",
       "      <td>0</td>\n",
       "      <td>40</td>\n",
       "    </tr>\n",
       "  </tbody>\n",
       "</table>\n",
       "<p>48842 rows × 4 columns</p>\n",
       "</div>"
      ],
      "text/plain": [
       "       age  capital-gain  capital-loss  hours-per-week\n",
       "0       25             0             0              40\n",
       "1       38             0             0              50\n",
       "2       28             0             0              40\n",
       "3       44          7688             0              40\n",
       "4       18             0             0              30\n",
       "...    ...           ...           ...             ...\n",
       "48837   27             0             0              38\n",
       "48838   40             0             0              40\n",
       "48839   58             0             0              40\n",
       "48840   22             0             0              20\n",
       "48841   52         15024             0              40\n",
       "\n",
       "[48842 rows x 4 columns]"
      ]
     },
     "execution_count": 3,
     "metadata": {},
     "output_type": "execute_result"
    }
   ],
   "source": [
    "data"
   ]
  },
  {
   "cell_type": "code",
   "execution_count": 7,
   "id": "073f6d54",
   "metadata": {},
   "outputs": [
    {
     "name": "stdout",
     "output_type": "stream",
     "text": [
      "memory\n",
      "steps\n",
      "verbose\n",
      "standardscaler\n",
      "logisticregression\n",
      "standardscaler__copy\n",
      "standardscaler__with_mean\n",
      "standardscaler__with_std\n",
      "logisticregression__C\n",
      "logisticregression__class_weight\n",
      "logisticregression__dual\n",
      "logisticregression__fit_intercept\n",
      "logisticregression__intercept_scaling\n",
      "logisticregression__l1_ratio\n",
      "logisticregression__max_iter\n",
      "logisticregression__multi_class\n",
      "logisticregression__n_jobs\n",
      "logisticregression__penalty\n",
      "logisticregression__random_state\n",
      "logisticregression__solver\n",
      "logisticregression__tol\n",
      "logisticregression__verbose\n",
      "logisticregression__warm_start\n"
     ]
    }
   ],
   "source": [
    "for parameter in model.get_params():\n",
    "    print(parameter)"
   ]
  },
  {
   "cell_type": "code",
   "execution_count": 4,
   "id": "4edc0a4e",
   "metadata": {},
   "outputs": [],
   "source": [
    "from sklearn.pipeline import make_pipeline\n",
    "from sklearn.preprocessing import StandardScaler\n",
    "from sklearn.linear_model import LogisticRegression\n",
    "\n",
    "model = make_pipeline(\n",
    "    StandardScaler(), \n",
    "    LogisticRegression()\n",
    ")"
   ]
  },
  {
   "cell_type": "code",
   "execution_count": 5,
   "id": "4325ab8d",
   "metadata": {},
   "outputs": [
    {
     "name": "stdout",
     "output_type": "stream",
     "text": [
      "Accuracy score via cross-validaton: 0.800 +/- 0.003\n"
     ]
    }
   ],
   "source": [
    "from sklearn.model_selection import cross_validate\n",
    "\n",
    "cv_results = cross_validate(model, data, target)\n",
    "scores = cv_results['test_score']\n",
    "\n",
    "print(\n",
    "    \"Accuracy score via cross-validaton: \"\n",
    "    f\"{scores.mean():.3f} +/- \"\n",
    "    f\"{scores.std():.3f}\"\n",
    ")"
   ]
  },
  {
   "cell_type": "code",
   "execution_count": 9,
   "id": "db561bb5",
   "metadata": {},
   "outputs": [
    {
     "name": "stdout",
     "output_type": "stream",
     "text": [
      "Accuracy score via cross-validation: 0.787 +/- 0.002\n"
     ]
    }
   ],
   "source": [
    "model.set_params(logisticregression__C=1e-3)\n",
    "cv_results = cross_validate(\n",
    "    model,\n",
    "    data,\n",
    "    target\n",
    ")\n",
    "scores = cv_results['test_score']\n",
    "print(\n",
    "    'Accuracy score via cross-validation: '\n",
    "    f\"{scores.mean():.3f} +/- {scores.std():.3f}\"\n",
    ")"
   ]
  },
  {
   "cell_type": "markdown",
   "id": "e3ccf609",
   "metadata": {},
   "source": [
    "Có thể thay đổi hệ thống giá trị của siêu tham số `C` để xem liệu có giá trị nào tối ưu không "
   ]
  },
  {
   "cell_type": "code",
   "execution_count": 12,
   "id": "793abee9",
   "metadata": {},
   "outputs": [
    {
     "name": "stdout",
     "output_type": "stream",
     "text": [
      "Accuracy score via cross-validation with C=0.001: 0.787 +/- 0.002\n",
      "Accuracy score via cross-validation with C=0.01: 0.799 +/- 0.003\n",
      "Accuracy score via cross-validation with C=0.1: 0.800 +/- 0.003\n",
      "Accuracy score via cross-validation with C=1: 0.800 +/- 0.003\n",
      "Accuracy score via cross-validation with C=10: 0.800 +/- 0.003\n",
      "Accuracy score via cross-validation with C=100: 0.800 +/- 0.003\n"
     ]
    }
   ],
   "source": [
    "for C in [1e-3, 1e-2, 1e-1, 1, 10, 100]:\n",
    "    model.set_params(logisticregression__C=C)\n",
    "    cv_results = cross_validate(\n",
    "        model,\n",
    "        data,\n",
    "        target\n",
    "    )\n",
    "\n",
    "    scores = cv_results['test_score']\n",
    "    print(\n",
    "    f'Accuracy score via cross-validation with C={C}: '\n",
    "    f\"{scores.mean():.3f} +/- {scores.std():.3f}\"\n",
    ")"
   ]
  },
  {
   "cell_type": "markdown",
   "id": "60ef2938",
   "metadata": {},
   "source": [
    "- Chúng ta có thể thấy rằng miễn là giá trị `C` đủ cao, mô hình dường như hoạt động tốt.\n",
    "\n",
    "- Điều chúng ta làm ở đây khá thủ công: nó bao gồm việc quét các giá trị của `C` và chọn giá trị tốt nhất một cách thủ công. Trong bài học tiếp theo, chúng ta sẽ học cách làm điều này tự động.\n",
    "\n",
    "!!!! Cảnh báo:\n",
    "\n",
    "- Khi chúng ta đánh giá một nhóm các mô hình trên dữ liệu kiểm tra và chọn mô hình hoạt động tốt nhất, chúng ta không thể tin tưởng vào độ chính xác dự đoán tương ứng, và cần phải áp dụng mô hình đã chọn cho dữ liệu mới. Thực tế, dữ liệu kiểm tra đã được sử dụng để chọn mô hình, vì vậy nó không còn độc lập với mô hình này nữa.\n",
    "\n",
    "- Trong tập tin này, chúng ta đã thấy: Cách sử dụng `get_params` và `set_params` để lấy và thiết lập các siêu tham số của một mô hình."
   ]
  }
 ],
 "metadata": {
  "kernelspec": {
   "display_name": "Python 3",
   "language": "python",
   "name": "python3"
  },
  "language_info": {
   "codemirror_mode": {
    "name": "ipython",
    "version": 3
   },
   "file_extension": ".py",
   "mimetype": "text/x-python",
   "name": "python",
   "nbconvert_exporter": "python",
   "pygments_lexer": "ipython3",
   "version": "3.12.5"
  }
 },
 "nbformat": 4,
 "nbformat_minor": 5
}
